{
  "nbformat": 4,
  "nbformat_minor": 0,
  "metadata": {
    "colab": {
      "name": "CIFAR_CV",
      "provenance": [],
      "collapsed_sections": []
    },
    "kernelspec": {
      "name": "python3",
      "display_name": "Python 3"
    }
  },
  "cells": [
    {
      "cell_type": "markdown",
      "source": [
        "# Computer Vision for CIFAR via CNN"
      ],
      "metadata": {
        "id": "bxdnEfd-xapM"
      }
    },
    {
      "cell_type": "code",
      "source": [
        "import torch\n",
        "import torchvision\n",
        "import torchvision.transforms as transforms"
      ],
      "metadata": {
        "id": "EQxyzMOcuDvP"
      },
      "execution_count": 2,
      "outputs": []
    },
    {
      "cell_type": "markdown",
      "source": [
        "## Form dataloader"
      ],
      "metadata": {
        "id": "uGdvflGnyOAP"
      }
    },
    {
      "cell_type": "code",
      "source": [
        "import torchvision.transforms as transforms\n",
        "\n",
        "# image_size = 64\n",
        "\n",
        "transform = transforms.Compose(\n",
        "    [       \n",
        "            transforms.ToTensor(),\n",
        "            # transforms.Resize(image_size),\n",
        "            # transforms.RandomResizedCrop(image_size),\n",
        "            transforms.Normalize(mean=(0.5), std=(0.5))\n",
        "     ]\n",
        ")\n",
        "\n",
        "batch_size = 128\n",
        "\n",
        "trainset = torchvision.datasets.CIFAR10(root='./data', train=True,\n",
        "                                        download=True, transform=transform)\n",
        "trainloader = torch.utils.data.DataLoader(trainset, batch_size=batch_size,\n",
        "                                          shuffle=True, num_workers=2)\n",
        "\n",
        "testset = torchvision.datasets.CIFAR10(root='./data', train=False,\n",
        "                                       download=True, transform=transform)\n",
        "testloader = torch.utils.data.DataLoader(testset, batch_size=batch_size,\n",
        "                                         shuffle=False, num_workers=2)\n",
        "\n",
        "classes = ('plane', 'car', 'bird', 'cat',\n",
        "           'deer', 'dog', 'frog', 'horse', 'ship', 'truck')"
      ],
      "metadata": {
        "colab": {
          "base_uri": "https://localhost:8080/"
        },
        "id": "Egn47hH3uHt8",
        "outputId": "12412c27-323c-4de5-d55e-cdb2862f5f75"
      },
      "execution_count": 119,
      "outputs": [
        {
          "output_type": "stream",
          "name": "stdout",
          "text": [
            "Files already downloaded and verified\n",
            "Files already downloaded and verified\n"
          ]
        }
      ]
    },
    {
      "cell_type": "markdown",
      "source": [
        "## Print class instances"
      ],
      "metadata": {
        "id": "OIeqgIuRyzoO"
      }
    },
    {
      "cell_type": "code",
      "metadata": {
        "colab": {
          "base_uri": "https://localhost:8080/",
          "height": 1000
        },
        "id": "5pfE1ZIY2cps",
        "outputId": "19b79b77-6023-4bd5-d46c-66848d0aab72"
      },
      "source": [
        "import torchvision.datasets as datasets\n",
        "\n",
        "class_names = ['airplane', 'car','bird', 'cat','deer','dog','frog','horse','ship','truck']\n",
        "\n",
        "dataiter = iter(trainloader)\n",
        "images, labels = dataiter.next()\n",
        "\n",
        "for i in range(10):\n",
        "    plt.xticks([])\n",
        "    plt.yticks([])\n",
        "    img = images[i] / 2 + 0.5\n",
        "    npimg = img.numpy()\n",
        "    plt.imshow(np.transpose(npimg, (1, 2, 0)))\n",
        "    plt.xlabel(class_names[labels[i]])\n",
        "    plt.show()\n",
        "\n"
      ],
      "execution_count": 131,
      "outputs": [
        {
          "output_type": "display_data",
          "data": {
            "text/plain": [
              "<Figure size 432x288 with 1 Axes>"
            ],
            "image/png": "[encoded data removed]"
          },
          "metadata": {}
        },
        {
          "output_type": "display_data",
          "data": {
            "text/plain": [
              "<Figure size 432x288 with 1 Axes>"
            ],
            "image/png": "[encoded data removed]"
          },
          "metadata": {}
        },
        {
          "output_type": "display_data",
          "data": {
            "text/plain": [
              "<Figure size 432x288 with 1 Axes>"
            ],
            "image/png": "[encoded data removed]"
          },
          "metadata": {}
        },
        {
          "output_type": "display_data",
          "data": {
            "text/plain": [
              "<Figure size 432x288 with 1 Axes>"
            ],
            "image/png": "[encoded data removed]"
          },
          "metadata": {}
        },
        {
          "output_type": "display_data",
          "data": {
            "text/plain": [
              "<Figure size 432x288 with 1 Axes>"
            ],
            "image/png": "[encoded data removed]"
          },
          "metadata": {}
        },
        {
          "output_type": "display_data",
          "data": {
            "text/plain": [
              "<Figure size 432x288 with 1 Axes>"
            ],
            "image/png": "[encoded data removed]"
          },
          "metadata": {}
        },
        {
          "output_type": "display_data",
          "data": {
            "text/plain": [
              "<Figure size 432x288 with 1 Axes>"
            ],
            "image/png": "[encoded data removed]"
          },
          "metadata": {}
        },
        {
          "output_type": "display_data",
          "data": {
            "text/plain": [
              "<Figure size 432x288 with 1 Axes>"
            ],
            "image/png": "[encoded data removed]"
          },
          "metadata": {}
        },
        {
          "output_type": "display_data",
          "data": {
            "text/plain": [
              "<Figure size 432x288 with 1 Axes>"
            ],
            "image/png": "[encoded data removed]"
          },
          "metadata": {}
        },
        {
          "output_type": "display_data",
          "data": {
            "text/plain": [
              "<Figure size 432x288 with 1 Axes>"
            ],
            "image/png": "[encoded data removed]"
          },
          "metadata": {}
        }
      ]
    },
    {
      "cell_type": "markdown",
      "source": [
        "## Model"
      ],
      "metadata": {
        "id": "54hErlaCy9Hb"
      }
    },
    {
      "cell_type": "code",
      "source": [
        "import torch.nn as nn\n",
        "import torch.nn.functional as F\n",
        "\n",
        "\n",
        "class Net(nn.Module):\n",
        "  def __init__(self):\n",
        "        super().__init__()\n",
        "        self.model = torch.nn.Sequential(\n",
        "            torch.nn.Conv2d(in_channels = 3, out_channels = 32, kernel_size = 3, padding = 1), \n",
        "            torch.nn.LeakyReLU(0.2, inplace=True),\n",
        "            torch.nn.MaxPool2d(kernel_size=2),\n",
        "  \n",
        "            torch.nn.Conv2d(in_channels = 32, out_channels = 64, kernel_size = 3, padding = 1),\n",
        "            torch.nn.LeakyReLU(0.2, inplace=True),\n",
        "            torch.nn.MaxPool2d(kernel_size=2),\n",
        "              \n",
        "            torch.nn.Conv2d(in_channels = 64, out_channels = 64, kernel_size = 3, padding = 1),\n",
        "            torch.nn.LeakyReLU(0.2, inplace=True),\n",
        "            torch.nn.MaxPool2d(kernel_size=2),\n",
        "  \n",
        "            torch.nn.Flatten(),\n",
        "            torch.nn.Linear(64*4*4, 512),\n",
        "            torch.nn.LeakyReLU(0.2, inplace=True),\n",
        "            torch.nn.Linear(512, 10)\n",
        "        )\n",
        "  \n",
        "  def forward(self, x):\n",
        "        return self.model(x)\n",
        "\n",
        "net = Net()"
      ],
      "metadata": {
        "id": "9SczsfbOZDYz"
      },
      "execution_count": 126,
      "outputs": []
    },
    {
      "cell_type": "markdown",
      "source": [
        "## Optimizar and loss function"
      ],
      "metadata": {
        "id": "oohaM-MSzAO7"
      }
    },
    {
      "cell_type": "code",
      "source": [
        "import torch.optim as optim\n",
        "\n",
        "epoches = 20\n",
        "batch_size = 128\n",
        "base_lr = 0.001\n",
        "beta1 = 0.5\n",
        "\n",
        "criterion = nn.CrossEntropyLoss()\n",
        "optimizer = optim.Adam(net.parameters(), lr=base_lr, betas=(beta1, 0.999))\n",
        "\n",
        "scheduler1 = optim.lr_scheduler.ExponentialLR(optimizer, gamma=0.9)"
      ],
      "metadata": {
        "id": "J1TXkTtaZE81"
      },
      "execution_count": 127,
      "outputs": []
    },
    {
      "cell_type": "markdown",
      "source": [
        "## Training"
      ],
      "metadata": {
        "id": "mmnRclGbzEv3"
      }
    },
    {
      "cell_type": "code",
      "source": [
        "for epoch in range(epoches): \n",
        "    running_loss = 0.0\n",
        "    for i, data in enumerate(trainloader, 0):\n",
        "        inputs, labels = data\n",
        "\n",
        "        optimizer.zero_grad()\n",
        "\n",
        "        outputs = net(inputs)\n",
        "        loss = criterion(outputs, labels)\n",
        "        loss.backward()\n",
        "        optimizer.step()\n",
        "\n",
        "        running_loss += loss.item()\n",
        "        if i % 250 == 249:\n",
        "            print(f'[{epoch + 1}, {i + 1:5d}] loss: {running_loss / 249:.3f}')\n",
        "            running_loss = 0.0\n",
        "    \n",
        "    scheduler1.step()\n",
        "\n",
        "print('Finished Training')"
      ],
      "metadata": {
        "colab": {
          "base_uri": "https://localhost:8080/"
        },
        "id": "R7Y3kUFmZH7L",
        "outputId": "e4419039-54d0-4b1d-97ef-fc5d1e7d6292"
      },
      "execution_count": 128,
      "outputs": [
        {
          "output_type": "stream",
          "name": "stdout",
          "text": [
            "[1,   250] loss: 1.532\n",
            "[2,   250] loss: 1.026\n",
            "[3,   250] loss: 0.816\n",
            "[4,   250] loss: 0.678\n",
            "[5,   250] loss: 0.576\n",
            "[6,   250] loss: 0.488\n",
            "[7,   250] loss: 0.415\n",
            "[8,   250] loss: 0.348\n",
            "[9,   250] loss: 0.282\n",
            "[10,   250] loss: 0.233\n",
            "[11,   250] loss: 0.186\n",
            "[12,   250] loss: 0.152\n",
            "[13,   250] loss: 0.118\n",
            "[14,   250] loss: 0.091\n",
            "[15,   250] loss: 0.069\n",
            "[16,   250] loss: 0.053\n",
            "[17,   250] loss: 0.039\n",
            "[18,   250] loss: 0.031\n",
            "[19,   250] loss: 0.024\n",
            "[20,   250] loss: 0.017\n",
            "Finished Training\n"
          ]
        }
      ]
    },
    {
      "cell_type": "markdown",
      "source": [
        "\n",
        "\n",
        "---\n",
        "\n"
      ],
      "metadata": {
        "id": "NC_GzLrta7dN"
      }
    },
    {
      "cell_type": "markdown",
      "source": [
        "## Testing on Val set"
      ],
      "metadata": {
        "id": "3XjgPKFezJsy"
      }
    },
    {
      "cell_type": "code",
      "source": [
        "correct = 0\n",
        "total = 0\n",
        "with torch.no_grad():\n",
        "    for data in testloader:\n",
        "        images, labels = data\n",
        "        outputs = net(images)\n",
        "        _, predicted = torch.max(outputs.data, 1)\n",
        "        total += labels.size(0)\n",
        "        correct += (predicted == labels).sum().item()\n",
        "\n",
        "print(f'Accuracy of the network on the 10000 test images: {100 * correct // total} %')"
      ],
      "metadata": {
        "colab": {
          "base_uri": "https://localhost:8080/"
        },
        "id": "QIURP6cFZjib",
        "outputId": "2e85385b-0914-4e56-ddb5-a08ae73fb204"
      },
      "execution_count": 129,
      "outputs": [
        {
          "output_type": "stream",
          "name": "stdout",
          "text": [
            "Accuracy of the network on the 10000 test images: 75 %\n"
          ]
        }
      ]
    },
    {
      "cell_type": "code",
      "source": [
        "correct_pred = {classname: 0 for classname in classes}\n",
        "total_pred = {classname: 0 for classname in classes}\n",
        "\n",
        "with torch.no_grad():\n",
        "    for data in testloader:\n",
        "        images, labels = data\n",
        "        outputs = net(images)\n",
        "        _, predictions = torch.max(outputs, 1)\n",
        "        for label, prediction in zip(labels, predictions):\n",
        "            if label == prediction:\n",
        "                correct_pred[classes[label]] += 1\n",
        "            total_pred[classes[label]] += 1\n",
        "\n",
        "\n",
        "for classname, correct_count in correct_pred.items():\n",
        "    accuracy = 100 * float(correct_count) / total_pred[classname]\n",
        "    print(f'Accuracy for class: {classname:5s} is {accuracy:.1f} %')"
      ],
      "metadata": {
        "colab": {
          "base_uri": "https://localhost:8080/"
        },
        "id": "zT7maK5YRVTT",
        "outputId": "d23f3522-8a3c-4d03-9e96-ebbe01cbfb90"
      },
      "execution_count": 130,
      "outputs": [
        {
          "output_type": "stream",
          "name": "stdout",
          "text": [
            "Accuracy for class: plane is 79.4 %\n",
            "Accuracy for class: car   is 85.8 %\n",
            "Accuracy for class: bird  is 69.3 %\n",
            "Accuracy for class: cat   is 60.4 %\n",
            "Accuracy for class: deer  is 69.3 %\n",
            "Accuracy for class: dog   is 63.3 %\n",
            "Accuracy for class: frog  is 83.3 %\n",
            "Accuracy for class: horse is 80.4 %\n",
            "Accuracy for class: ship  is 86.4 %\n",
            "Accuracy for class: truck is 80.7 %\n"
          ]
        }
      ]
    },
    {
      "cell_type": "markdown",
      "source": [
        "## Save model"
      ],
      "metadata": {
        "id": "9rD81h2gzPH0"
      }
    },
    {
      "cell_type": "code",
      "source": [
        "torch.save(net.state_dict(), 'model.pth')"
      ],
      "metadata": {
        "id": "5i4L5E-6GvDa"
      },
      "execution_count": 132,
      "outputs": []
    }
  ]
}